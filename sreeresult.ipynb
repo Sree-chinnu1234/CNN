{
 "cells": [
  {
   "cell_type": "code",
   "execution_count": 1,
   "id": "158d5a76",
   "metadata": {},
   "outputs": [],
   "source": [
    "import tensorflow as tf\n",
    "from keras_preprocessing.image import ImageDataGenerator"
   ]
  },
  {
   "cell_type": "code",
   "execution_count": 2,
   "id": "6c08a961",
   "metadata": {
    "scrolled": true
   },
   "outputs": [
    {
     "name": "stdout",
     "output_type": "stream",
     "text": [
      "Found 160 images belonging to 2 classes.\n"
     ]
    }
   ],
   "source": [
    "train_datagen = ImageDataGenerator(rescale = 1./255,\n",
    "                                   shear_range = 0.2,\n",
    "                                   zoom_range = 0.2,\n",
    "                                   horizontal_flip = True)\n",
    "training_set = train_datagen.flow_from_directory('D:/dataset/Training_set',\n",
    "                                                 target_size = (64, 64),\n",
    "                                                 batch_size = 16,\n",
    "                                                 class_mode = 'binary')"
   ]
  },
  {
   "cell_type": "code",
   "execution_count": 3,
   "id": "b8a73d43",
   "metadata": {},
   "outputs": [
    {
     "name": "stdout",
     "output_type": "stream",
     "text": [
      "Found 40 images belonging to 2 classes.\n"
     ]
    }
   ],
   "source": [
    "test_datagen = ImageDataGenerator(rescale =1./255)\n",
    "testing_set=test_datagen.flow_from_directory('D:\\dataset\\Testing_set',\n",
    "                                            target_size=(64,64),\n",
    "                                            batch_size=16,\n",
    "                                            class_mode='binary')"
   ]
  },
  {
   "cell_type": "code",
   "execution_count": 4,
   "id": "c3058400",
   "metadata": {},
   "outputs": [],
   "source": [
    "cnn = tf.keras.models.Sequential()"
   ]
  },
  {
   "cell_type": "code",
   "execution_count": 5,
   "id": "805343aa",
   "metadata": {},
   "outputs": [],
   "source": [
    "##first convulation layer\n",
    "cnn.add(tf.keras.layers.Conv2D(filters=16, kernel_size=3, activation='relu', input_shape=[64, 64, 3]))"
   ]
  },
  {
   "cell_type": "code",
   "execution_count": 6,
   "id": "5e0427ef",
   "metadata": {},
   "outputs": [],
   "source": [
    "cnn.add(tf.keras.layers.MaxPool2D(pool_size=2, strides=2))"
   ]
  },
  {
   "cell_type": "code",
   "execution_count": 7,
   "id": "51dad350",
   "metadata": {},
   "outputs": [],
   "source": [
    "\n",
    "cnn.add(tf.keras.layers.Conv2D(filters=32,kernel_size=3,activation='relu'))\n",
    "cnn.add(tf.keras.layers.MaxPool2D(pool_size=2,strides=2))\n"
   ]
  },
  {
   "cell_type": "code",
   "execution_count": 8,
   "id": "9cab5959",
   "metadata": {},
   "outputs": [],
   "source": [
    "##third convulaton layer\n",
    "cnn.add(tf.keras.layers.Conv2D(filters=32,kernel_size=3,activation='relu'))\n",
    "cnn.add(tf.keras.layers.MaxPool2D(pool_size=2,strides=2))\n"
   ]
  },
  {
   "cell_type": "code",
   "execution_count": 9,
   "id": "6059f317",
   "metadata": {},
   "outputs": [],
   "source": [
    "cnn.add(tf.keras.layers.Conv2D(filters=32,kernel_size=3,activation='relu'))\n",
    "cnn.add(tf.keras.layers.MaxPool2D(pool_size=2,strides=2))"
   ]
  },
  {
   "cell_type": "code",
   "execution_count": 10,
   "id": "602ba8d9",
   "metadata": {},
   "outputs": [],
   "source": [
    "cnn.add(tf.keras.layers.Flatten())"
   ]
  },
  {
   "cell_type": "code",
   "execution_count": 11,
   "id": "d868208d",
   "metadata": {},
   "outputs": [],
   "source": [
    "cnn.add(tf.keras.layers.Dense(units=50, activation='relu'))"
   ]
  },
  {
   "cell_type": "code",
   "execution_count": 12,
   "id": "85880aa2",
   "metadata": {},
   "outputs": [],
   "source": [
    "cnn.add(tf.keras.layers.Dense(units=50, activation='relu'))"
   ]
  },
  {
   "cell_type": "markdown",
   "id": "d0209422",
   "metadata": {},
   "source": [
    "# ###ouput layer"
   ]
  },
  {
   "cell_type": "code",
   "execution_count": 13,
   "id": "849bf1ee",
   "metadata": {},
   "outputs": [],
   "source": [
    "cnn.add(tf.keras.layers.Dense(units=1, activation='sigmoid'))"
   ]
  },
  {
   "cell_type": "code",
   "execution_count": 14,
   "id": "f59812ff",
   "metadata": {},
   "outputs": [
    {
     "name": "stdout",
     "output_type": "stream",
     "text": [
      "Model: \"sequential\"\n",
      "_________________________________________________________________\n",
      " Layer (type)                Output Shape              Param #   \n",
      "=================================================================\n",
      " conv2d (Conv2D)             (None, 62, 62, 16)        448       \n",
      "                                                                 \n",
      " max_pooling2d (MaxPooling2D  (None, 31, 31, 16)       0         \n",
      " )                                                               \n",
      "                                                                 \n",
      " conv2d_1 (Conv2D)           (None, 29, 29, 32)        4640      \n",
      "                                                                 \n",
      " max_pooling2d_1 (MaxPooling  (None, 14, 14, 32)       0         \n",
      " 2D)                                                             \n",
      "                                                                 \n",
      " conv2d_2 (Conv2D)           (None, 12, 12, 32)        9248      \n",
      "                                                                 \n",
      " max_pooling2d_2 (MaxPooling  (None, 6, 6, 32)         0         \n",
      " 2D)                                                             \n",
      "                                                                 \n",
      " conv2d_3 (Conv2D)           (None, 4, 4, 32)          9248      \n",
      "                                                                 \n",
      " max_pooling2d_3 (MaxPooling  (None, 2, 2, 32)         0         \n",
      " 2D)                                                             \n",
      "                                                                 \n",
      " flatten (Flatten)           (None, 128)               0         \n",
      "                                                                 \n",
      " dense (Dense)               (None, 50)                6450      \n",
      "                                                                 \n",
      " dense_1 (Dense)             (None, 50)                2550      \n",
      "                                                                 \n",
      " dense_2 (Dense)             (None, 1)                 51        \n",
      "                                                                 \n",
      "=================================================================\n",
      "Total params: 32,635\n",
      "Trainable params: 32,635\n",
      "Non-trainable params: 0\n",
      "_________________________________________________________________\n"
     ]
    }
   ],
   "source": [
    "cnn.summary()"
   ]
  },
  {
   "cell_type": "code",
   "execution_count": 15,
   "id": "4aa342ea",
   "metadata": {},
   "outputs": [],
   "source": [
    "cnn.compile(optimizer = 'adam', loss = 'binary_crossentropy', metrics = ['accuracy'])"
   ]
  },
  {
   "cell_type": "code",
   "execution_count": 16,
   "id": "26d29371",
   "metadata": {},
   "outputs": [
    {
     "name": "stdout",
     "output_type": "stream",
     "text": [
      "Epoch 1/20\n",
      "10/10 [==============================] - 3s 214ms/step - loss: 0.6944 - accuracy: 0.4625 - val_loss: 0.6923 - val_accuracy: 0.5000\n",
      "Epoch 2/20\n",
      "10/10 [==============================] - 1s 74ms/step - loss: 0.6934 - accuracy: 0.5125 - val_loss: 0.6931 - val_accuracy: 0.5000\n",
      "Epoch 3/20\n",
      "10/10 [==============================] - 1s 74ms/step - loss: 0.6927 - accuracy: 0.5000 - val_loss: 0.6920 - val_accuracy: 0.5000\n",
      "Epoch 4/20\n",
      "10/10 [==============================] - 1s 78ms/step - loss: 0.6914 - accuracy: 0.5750 - val_loss: 0.6880 - val_accuracy: 0.5500\n",
      "Epoch 5/20\n",
      "10/10 [==============================] - 1s 76ms/step - loss: 0.6931 - accuracy: 0.5125 - val_loss: 0.6880 - val_accuracy: 0.5000\n",
      "Epoch 6/20\n",
      "10/10 [==============================] - 1s 74ms/step - loss: 0.6832 - accuracy: 0.5938 - val_loss: 0.6812 - val_accuracy: 0.7000\n",
      "Epoch 7/20\n",
      "10/10 [==============================] - 1s 70ms/step - loss: 0.6893 - accuracy: 0.5437 - val_loss: 0.6727 - val_accuracy: 0.6250\n",
      "Epoch 8/20\n",
      "10/10 [==============================] - 1s 66ms/step - loss: 0.6618 - accuracy: 0.6187 - val_loss: 0.6692 - val_accuracy: 0.5750\n",
      "Epoch 9/20\n",
      "10/10 [==============================] - 1s 62ms/step - loss: 0.6441 - accuracy: 0.6313 - val_loss: 0.6808 - val_accuracy: 0.5500\n",
      "Epoch 10/20\n",
      "10/10 [==============================] - 1s 65ms/step - loss: 0.6216 - accuracy: 0.6562 - val_loss: 0.6473 - val_accuracy: 0.6250\n",
      "Epoch 11/20\n",
      "10/10 [==============================] - 1s 64ms/step - loss: 0.5846 - accuracy: 0.6687 - val_loss: 0.6497 - val_accuracy: 0.7000\n",
      "Epoch 12/20\n",
      "10/10 [==============================] - 1s 64ms/step - loss: 0.5516 - accuracy: 0.7063 - val_loss: 0.7309 - val_accuracy: 0.6000\n",
      "Epoch 13/20\n",
      "10/10 [==============================] - 1s 64ms/step - loss: 0.5907 - accuracy: 0.6687 - val_loss: 0.6666 - val_accuracy: 0.6750\n",
      "Epoch 14/20\n",
      "10/10 [==============================] - 1s 66ms/step - loss: 0.5766 - accuracy: 0.6500 - val_loss: 0.7522 - val_accuracy: 0.5750\n",
      "Epoch 15/20\n",
      "10/10 [==============================] - 1s 62ms/step - loss: 0.5347 - accuracy: 0.7312 - val_loss: 0.6054 - val_accuracy: 0.7000\n",
      "Epoch 16/20\n",
      "10/10 [==============================] - 1s 69ms/step - loss: 0.4833 - accuracy: 0.7812 - val_loss: 0.6607 - val_accuracy: 0.6250\n",
      "Epoch 17/20\n",
      "10/10 [==============================] - 1s 65ms/step - loss: 0.4903 - accuracy: 0.7188 - val_loss: 0.6663 - val_accuracy: 0.7500\n",
      "Epoch 18/20\n",
      "10/10 [==============================] - 1s 65ms/step - loss: 0.4862 - accuracy: 0.7812 - val_loss: 0.7211 - val_accuracy: 0.6250\n",
      "Epoch 19/20\n",
      "10/10 [==============================] - 1s 68ms/step - loss: 0.4747 - accuracy: 0.7937 - val_loss: 1.0465 - val_accuracy: 0.5500\n",
      "Epoch 20/20\n",
      "10/10 [==============================] - 1s 63ms/step - loss: 0.5707 - accuracy: 0.7125 - val_loss: 0.6757 - val_accuracy: 0.6750\n"
     ]
    }
   ],
   "source": [
    "history_model=cnn.fit(x = training_set, validation_data = testing_set, epochs = 20)"
   ]
  },
  {
   "cell_type": "code",
   "execution_count": 17,
   "id": "ed2e298e",
   "metadata": {},
   "outputs": [
    {
     "data": {
      "image/png": "[encoded data removed]",
      "text/plain": [
       "<Figure size 432x288 with 1 Axes>"
      ]
     },
     "metadata": {
      "needs_background": "light"
     },
     "output_type": "display_data"
    },
    {
     "data": {
      "image/png": "[encoded data removed]",
      "text/plain": [
       "<Figure size 432x288 with 1 Axes>"
      ]
     },
     "metadata": {
      "needs_background": "light"
     },
     "output_type": "display_data"
    }
   ],
   "source": [
    "import matplotlib.pyplot as plt\n",
    "\n",
    "plt.plot(history_model.history['accuracy'])\n",
    "plt.plot(history_model.history['val_accuracy'])\n",
    "plt.legend(['accuracy','val_accuracy'])\n",
    "plt.show()\n",
    "\n",
    "\n",
    "plt.plot(history_model.history['loss'])\n",
    "plt.plot(history_model.history['val_loss'])\n",
    "plt.legend(['loss','val_loss'])\n",
    "plt.show()"
   ]
  },
  {
   "cell_type": "code",
   "execution_count": 18,
   "id": "7a471044",
   "metadata": {},
   "outputs": [],
   "source": [
    "import numpy as np\n",
    "from keras_preprocessing import image\n",
    "test_image = image.load_img('D:\\dataset\\single_prediction\\cat_or_dog_2.jpg', target_size = (64, 64))\n",
    "test_image = image.img_to_array(test_image)\n",
    "test_image = np.expand_dims(test_image, axis = 0)\n",
    "result = cnn.predict(test_image)\n",
    "training_set.class_indices\n",
    "if result[0][0] == 1:\n",
    "    prediction = 'cat'\n",
    "else:\n",
    "    prediction = 'dog'"
   ]
  },
  {
   "cell_type": "code",
   "execution_count": 19,
   "id": "f64d5799",
   "metadata": {},
   "outputs": [
    {
     "name": "stdout",
     "output_type": "stream",
     "text": [
      "cat\n"
     ]
    }
   ],
   "source": [
    "print(prediction)"
   ]
  },
  {
   "cell_type": "code",
   "execution_count": null,
   "id": "5b753e18",
   "metadata": {},
   "outputs": [],
   "source": []
  },
  {
   "cell_type": "code",
   "execution_count": null,
   "id": "0c62563c",
   "metadata": {},
   "outputs": [],
   "source": []
  },
  {
   "cell_type": "code",
   "execution_count": null,
   "id": "9f918267",
   "metadata": {},
   "outputs": [],
   "source": []
  }
 ],
 "metadata": {
  "kernelspec": {
   "display_name": "Python 3 (ipykernel)",
   "language": "python",
   "name": "python3"
  },
  "language_info": {
   "codemirror_mode": {
    "name": "ipython",
    "version": 3
   },
   "file_extension": ".py",
   "mimetype": "text/x-python",
   "name": "python",
   "nbconvert_exporter": "python",
   "pygments_lexer": "ipython3",
   "version": "3.9.7"
  }
 },
 "nbformat": 4,
 "nbformat_minor": 5
}
